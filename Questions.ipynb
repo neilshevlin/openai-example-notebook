{
 "cells": [
  {
   "cell_type": "code",
   "execution_count": null,
   "id": "8a525a01",
   "metadata": {},
   "outputs": [],
   "source": [
    "import os\n",
    "import openai"
   ]
  },
  {
   "cell_type": "code",
   "execution_count": null,
   "id": "2ab4281f",
   "metadata": {},
   "outputs": [],
   "source": [
    "openai.api_key = os.getenv(\"OPENAI_API_KEY\")\n",
    "def getAnswer(question):\n",
    "    response = openai.Answer.create(\n",
    "    #         Search models and models are: ada, babbage, curie, davinci\n",
    "              search_model=\"ada\",\n",
    "              model=\"davinci\",\n",
    "              question=question,\n",
    "#             file that your reference may be replaced with 'documents=[]' but you cannot have both\n",
    "              file='file-abababababababababa',\n",
    "              examples_context=\"The monke is going to the banana shop\",\n",
    "              examples=[['Where is the monke going?','The banana shop']['Who will arrive in the banana shop?','The Monke']],\n",
    "              max_tokens=10,\n",
    "              n=1,\n",
    "              temperature=0,\n",
    "              stop=[\"\\n\", \"<|endoftext|>\"],\n",
    "            )\n",
    "    return response"
   ]
  },
  {
   "cell_type": "code",
   "execution_count": null,
   "id": "f0f24917",
   "metadata": {},
   "outputs": [],
   "source": [
    "print(getAnswer('Who is the monke?'))"
   ]
  }
 ],
 "metadata": {
  "kernelspec": {
   "display_name": "Python 3 (ipykernel)",
   "language": "python",
   "name": "python3"
  },
  "language_info": {
   "codemirror_mode": {
    "name": "ipython",
    "version": 3
   },
   "file_extension": ".py",
   "mimetype": "text/x-python",
   "name": "python",
   "nbconvert_exporter": "python",
   "pygments_lexer": "ipython3",
   "version": "3.9.6"
  }
 },
 "nbformat": 4,
 "nbformat_minor": 5
}
