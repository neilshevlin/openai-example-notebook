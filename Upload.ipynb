{
 "cells": [
  {
   "cell_type": "code",
   "execution_count": null,
   "id": "9031dfcf",
   "metadata": {},
   "outputs": [],
   "source": [
    "import os\n",
    "# pip install openai\n",
    "import openai"
   ]
  },
  {
   "cell_type": "code",
   "execution_count": null,
   "id": "e33a12d6",
   "metadata": {},
   "outputs": [],
   "source": [
    "# Set your api key with a string or a os env variable\n",
    "openai.api_key = os.getenv(\"OPENAI_API_KEY\")\n",
    "openai.File.create(\n",
    "# path to file in jupyter notebook\n",
    "  file=open(\"exampleLines.jsonl\"),\n",
    "  purpose='answers'\n",
    ")"
   ]
  },
  {
   "cell_type": "code",
   "execution_count": null,
   "id": "760dd903",
   "metadata": {},
   "outputs": [],
   "source": [
    "# List files uploaded\n",
    "openai.File.list()"
   ]
  }
 ],
 "metadata": {
  "kernelspec": {
   "display_name": "Python 3 (ipykernel)",
   "language": "python",
   "name": "python3"
  },
  "language_info": {
   "codemirror_mode": {
    "name": "ipython",
    "version": 3
   },
   "file_extension": ".py",
   "mimetype": "text/x-python",
   "name": "python",
   "nbconvert_exporter": "python",
   "pygments_lexer": "ipython3",
   "version": "3.9.6"
  }
 },
 "nbformat": 4,
 "nbformat_minor": 5
}
