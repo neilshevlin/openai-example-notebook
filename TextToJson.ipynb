{
 "cells": [
  {
   "cell_type": "code",
   "execution_count": null,
   "id": "60140457",
   "metadata": {},
   "outputs": [],
   "source": [
    "import json"
   ]
  },
  {
   "cell_type": "code",
   "execution_count": null,
   "id": "650c9f82",
   "metadata": {},
   "outputs": [],
   "source": [
    "def splitByLine():\n",
    "    lines = []\n",
    "    with open(\"example.txt\", encoding=\"utf8\") as f:\n",
    "        for line in f.read().splitlines():\n",
    "            if line:\n",
    "                lines.append({\"text\": line})\n",
    "                \n",
    "    json_lines = [json.dumps(l) for l in lines]\n",
    "    \n",
    "    json_data = '\\n'.join(json_lines)\n",
    "    with open('exampleLines.jsonl', 'w') as f:\n",
    "        f.write(json_data)\n",
    "\n",
    "def splitByFullStop():\n",
    "    lines = []\n",
    "    with open(\"example.txt\", encoding=\"utf8\") as f:\n",
    "        for line in f.read().split(\".\"):\n",
    "            # split at every word\n",
    "            if line != \"\":\n",
    "                 lines.append({\"text\": line})\n",
    "    json_lines = [json.dumps(l) for l in lines]\n",
    "\n",
    "    json_data = '\\n'.join(json_lines)\n",
    "    with open('exampleStops.jsonl', 'w') as f:\n",
    "        f.write(json_data)\n"
   ]
  },
  {
   "cell_type": "code",
   "execution_count": null,
   "id": "ad317618",
   "metadata": {},
   "outputs": [],
   "source": [
    "# Method\n",
    "convertByLine()"
   ]
  },
  {
   "cell_type": "code",
   "execution_count": null,
   "id": "e50ae572",
   "metadata": {},
   "outputs": [],
   "source": [
    "# Method\n",
    "convertByFullStop()"
   ]
  }
 ],
 "metadata": {
  "kernelspec": {
   "display_name": "Python 3 (ipykernel)",
   "language": "python",
   "name": "python3"
  },
  "language_info": {
   "codemirror_mode": {
    "name": "ipython",
    "version": 3
   },
   "file_extension": ".py",
   "mimetype": "text/x-python",
   "name": "python",
   "nbconvert_exporter": "python",
   "pygments_lexer": "ipython3",
   "version": "3.9.6"
  }
 },
 "nbformat": 4,
 "nbformat_minor": 5
}
